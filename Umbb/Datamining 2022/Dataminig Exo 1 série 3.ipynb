{
 "cells": [
  {
   "cell_type": "code",
   "execution_count": 1,
   "id": "3220bd8b",
   "metadata": {},
   "outputs": [],
   "source": [
    "import numpy as np"
   ]
  },
  {
   "cell_type": "code",
   "execution_count": 3,
   "id": "927d9468",
   "metadata": {},
   "outputs": [],
   "source": [
    "def df(x):\n",
    "    return 2.4*(x-2)\n",
    "def F(x):\n",
    "    return 1.2 * (x-2)**2 + 3.2"
   ]
  },
  {
   "cell_type": "code",
   "execution_count": 4,
   "id": "972c5c1e",
   "metadata": {},
   "outputs": [],
   "source": [
    "loss=[]\n",
    "x=0.1\n",
    "X = [x]\n",
    "E = [F(x)]\n",
    "\n",
    "for i in range(6):\n",
    "    x = x - 0.6 * df(x)\n",
    "    X.append(x)\n",
    "    E.append(F(x))\n",
    "    "
   ]
  },
  {
   "cell_type": "code",
   "execution_count": 5,
   "id": "6fc31350",
   "metadata": {},
   "outputs": [
    {
     "data": {
      "text/plain": [
       "array([0.1   , 2.836 , 1.6322, 2.1618, 1.9288, 2.0313, 1.9862])"
      ]
     },
     "execution_count": 5,
     "metadata": {},
     "output_type": "execute_result"
    }
   ],
   "source": [
    "np.array(X).round(4)"
   ]
  },
  {
   "cell_type": "code",
   "execution_count": 6,
   "id": "83abeca7",
   "metadata": {},
   "outputs": [
    {
     "data": {
      "text/plain": [
       "array([7.532 , 4.0387, 3.3624, 3.2314, 3.2061, 3.2012, 3.2002])"
      ]
     },
     "execution_count": 6,
     "metadata": {},
     "output_type": "execute_result"
    }
   ],
   "source": [
    "np.array(E).round(4)"
   ]
  },
  {
   "cell_type": "code",
   "execution_count": 7,
   "id": "5b927c83",
   "metadata": {},
   "outputs": [],
   "source": [
    "import matplotlib.pyplot as plt"
   ]
  },
  {
   "cell_type": "code",
   "execution_count": 11,
   "id": "9f4dab0c",
   "metadata": {},
   "outputs": [
    {
     "data": {
      "text/plain": [
       "Text(0.5, 1.0, 'Evoltion de X')"
      ]
     },
     "execution_count": 11,
     "metadata": {},
     "output_type": "execute_result"
    },
    {
     "data": {
      "image/png": "[encoded data removed]",
      "text/plain": [
       "<Figure size 432x288 with 1 Axes>"
      ]
     },
     "metadata": {
      "needs_background": "light"
     },
     "output_type": "display_data"
    }
   ],
   "source": [
    "plt.plot(X)\n",
    "plt.title(\"Evoltion de X\")"
   ]
  },
  {
   "cell_type": "code",
   "execution_count": 12,
   "id": "9b48721d",
   "metadata": {},
   "outputs": [
    {
     "data": {
      "text/plain": [
       "Text(0.5, 1.0, 'Evoltion de la fonction cout')"
      ]
     },
     "execution_count": 12,
     "metadata": {},
     "output_type": "execute_result"
    },
    {
     "data": {
      "image/png": "[encoded data removed]",
      "text/plain": [
       "<Figure size 432x288 with 1 Axes>"
      ]
     },
     "metadata": {
      "needs_background": "light"
     },
     "output_type": "display_data"
    }
   ],
   "source": [
    "plt.plot(E)\n",
    "plt.title(\"Evolution de la fonction cout\")"
   ]
  },
  {
   "cell_type": "code",
   "execution_count": null,
   "id": "4e59b9f9",
   "metadata": {},
   "outputs": [],
   "source": []
  }
 ],
 "metadata": {
  "kernelspec": {
   "display_name": "geo",
   "language": "python",
   "name": "geo"
  },
  "language_info": {
   "codemirror_mode": {
    "name": "ipython",
    "version": 3
   },
   "file_extension": ".py",
   "mimetype": "text/x-python",
   "name": "python",
   "nbconvert_exporter": "python",
   "pygments_lexer": "ipython3",
   "version": "3.10.4"
  }
 },
 "nbformat": 4,
 "nbformat_minor": 5
}
